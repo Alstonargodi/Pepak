{
  "cells": [
    {
      "cell_type": "markdown",
      "source": [
        "\n"
      ],
      "metadata": {
        "id": "taadQn9Hbc53"
      },
      "id": "taadQn9Hbc53"
    },
    {
      "cell_type": "markdown",
      "source": [
        "## Pengenalan aksara jawa dengan convolutional neural network\n",
        "\n",
        "Refrensi : \n",
        "\n",
        "Pengenalan aksara lontar dengan Convolutional Neural Network berbasis android, Ridwan Nur, Septi Andryana, Winarsih (2018)\n",
        "\n",
        "Aksara Jawa Text Detection in Scene Images using Convolutional Neural Network, \n",
        "Muhammad Labiyb Afakh, Anhar Risnumawan, Martianda Erste Anggraeni,\n",
        "Mohamad Nasyir Tamara, and Endah Suryawati Ningrum (2017)\n",
        "\n"
      ],
      "metadata": {
        "id": "FP4HmxcabwP_"
      },
      "id": "FP4HmxcabwP_"
    },
    {
      "cell_type": "markdown",
      "source": [
        "Dalam program ini menggunakan tensorflow sebagai pihak ketiga untuk membantu proses pelatihan data serta pengujian data dengan masukan gambar melalui unggah gambar"
      ],
      "metadata": {
        "id": "quB_08C5t1n3"
      },
      "id": "quB_08C5t1n3"
    },
    {
      "cell_type": "markdown",
      "source": [
        "##Google Drive\n",
        "\n",
        "Input file dataset yang telah di unggah ke dalam drive kemudian memanggil dataset tersebut dengan fungsi drive.mount untuk mengaitkan drive dengan colaboratoy"
      ],
      "metadata": {
        "id": "xhpxLdJbuVG4"
      },
      "id": "xhpxLdJbuVG4"
    },
    {
      "cell_type": "code",
      "execution_count": null,
      "metadata": {
        "id": "hrJNkXKwrUSe",
        "colab": {
          "base_uri": "https://localhost:8080/"
        },
        "outputId": "9e959ce1-a31a-436d-c015-5d3167236baf"
      },
      "outputs": [
        {
          "output_type": "stream",
          "name": "stdout",
          "text": [
            "Mounted at /content/drive\n"
          ]
        }
      ],
      "source": [
        "from google.colab import drive\n",
        "drive.mount('/content/drive')"
      ],
      "id": "hrJNkXKwrUSe"
    },
    {
      "cell_type": "markdown",
      "source": [
        "##Library\n",
        "\n",
        "Import pihak ketiga yang dibutuhkan seperti tensorflow untuk membuat dan melatih model sklearn untuk memproses gambar"
      ],
      "metadata": {
        "id": "28_KpCXTuie4"
      },
      "id": "28_KpCXTuie4"
    },
    {
      "cell_type": "code",
      "execution_count": null,
      "metadata": {
        "id": "9edf09d5"
      },
      "outputs": [],
      "source": [
        "# prep\n",
        "import os\n",
        "import tensorflow as tf\n",
        "from tensorflow.keras import datasets, layers, models\n",
        "import matplotlib.image as mpimg\n",
        "import matplotlib.pyplot as plt\n",
        "import numpy as np\n",
        "from sklearn.model_selection import train_test_split\n",
        "from sklearn.preprocessing import StandardScaler\n",
        "import glob\n",
        "import time\n",
        "import cv2\n",
        "from tensorflow.keras.preprocessing.image import ImageDataGenerator\n",
        "import numpy as np\n",
        "\n",
        "#cnn\n",
        "from tensorflow.keras.utils import to_categorical\n",
        "from tensorflow.keras.models import Sequential\n",
        "from tensorflow.keras.layers import Convolution2D as conv2d\n",
        "from tensorflow.keras.layers import MaxPooling2D as maxpool2d\n",
        "from tensorflow.keras.layers import Dense\n",
        "from tensorflow.keras.layers import Dropout\n",
        "from tensorflow.keras.layers import GlobalMaxPooling2D as globalmaxpooling2d\n",
        "from tensorflow.keras.layers import Activation as activation\n",
        "from tensorflow.keras.layers import Dense, Flatten, Conv2D, MaxPooling2D, AveragePooling2D, Dropout, SpatialDropout2D\n",
        "from tensorflow.keras.preprocessing import image\n",
        "from tensorflow.keras.layers import Flatten\n",
        "from tensorflow.keras.optimizers import SGD\n",
        "\n",
        "\n",
        "%matplotlib inline"
      ],
      "id": "9edf09d5"
    },
    {
      "cell_type": "markdown",
      "source": [
        "## Import dataset\n",
        "\n",
        "Java script dataset obtained from kaggle\n",
        "https://www.kaggle.com/phiard/aksara-jawa\n",
        "\n",
        "There are two datasets needed to import this dataset, namely training data and validation data taken based on the directory path, then determine the image size using the target size, then rescale the image to the image size / 255\n",
        "\n",
        "The images used in this test are 150x150 in size, 3 dimensions and RGB images"
      ],
      "metadata": {
        "id": "lK-5UBm6vttv"
      },
      "id": "lK-5UBm6vttv"
    },
    {
      "cell_type": "code",
      "source": [
        "# masukan gambar dengan upload gambar uji ukuran target_size 150x150 dengan input target_size = 150x150 dimensi 3 rgb\n",
        "# masukan gambar dengan tulisan tangan uji ukuran target_size 28x28 dengan input target_size = 28x28 dimensi 1 grayscale"
      ],
      "metadata": {
        "id": "4M-jRMfNpXMW"
      },
      "id": "4M-jRMfNpXMW",
      "execution_count": null,
      "outputs": []
    },
    {
      "cell_type": "code",
      "execution_count": null,
      "metadata": {
        "id": "3a48d5b8",
        "colab": {
          "base_uri": "https://localhost:8080/"
        },
        "outputId": "70f180a5-acea-4b5e-b077-56d790587e98"
      },
      "outputs": [
        {
          "output_type": "stream",
          "name": "stdout",
          "text": [
            "Found 2264 images belonging to 20 classes.\n"
          ]
        }
      ],
      "source": [
        "#membuat data latih\n",
        "train_data = ImageDataGenerator(\n",
        "    rescale = 1/255,\n",
        ")\n",
        "\n",
        "data_uji = train_data.flow_from_directory(\n",
        "        directory = \"/content/drive/MyDrive/CNN aksara jawa/train\",\n",
        "        target_size = (150,150),\n",
        "        batch_size = 4,\n",
        "        class_mode='categorical'\n",
        ")\n"
      ],
      "id": "3a48d5b8"
    },
    {
      "cell_type": "code",
      "execution_count": null,
      "metadata": {
        "id": "12d0388d",
        "colab": {
          "base_uri": "https://localhost:8080/"
        },
        "outputId": "423f8003-016f-4af9-a4b1-a5d11c99fb5a"
      },
      "outputs": [
        {
          "output_type": "stream",
          "name": "stdout",
          "text": [
            "Found 485 images belonging to 20 classes.\n"
          ]
        }
      ],
      "source": [
        "#membuat data validasi\n",
        "validation_data = ImageDataGenerator(\n",
        "    rescale = 1/255,\n",
        ")\n",
        "\n",
        "data_validasi = validation_data.flow_from_directory(\n",
        "        directory = \"/content/drive/MyDrive/CNN aksara jawa/val\",\n",
        "        target_size = (150,150),\n",
        "        class_mode='categorical',\n",
        "        batch_size = 4\n",
        ")"
      ],
      "id": "12d0388d"
    },
    {
      "cell_type": "markdown",
      "source": [
        "## Show data image\n",
        "\n",
        "Displaying the dataset that will be used later with matplotlin we can display an image with a graph of the size of the image the image is taken based on a predetermined path"
      ],
      "metadata": {
        "id": "aiLnnzzCwibQ"
      },
      "id": "aiLnnzzCwibQ"
    },
    {
      "cell_type": "code",
      "execution_count": null,
      "metadata": {
        "id": "4056ccfe"
      },
      "outputs": [],
      "source": [
        "#menampilkan data\n",
        "\n",
        "def datagambar(gambar):\n",
        "    plt.figure()\n",
        "    fig = plt.figure(figsize=(10,10))\n",
        "    fig.patch.set_facecolor('white')\n",
        "    \n",
        "    for i in range(len(gambar)):\n",
        "        plt.subplot(5,5,i+1)\n",
        "        img = mpimg.imread(gambar[i])\n",
        "        plt.imshow(img)\n",
        "        plt.tight_layout()\n",
        "        plt.title(gambar[i].split(\"/\")[1])\n",
        "        img.shape\n",
        "    plt.show()\n",
        "    \n",
        "    \n",
        "def list_files(dir):\n",
        "    arr = []\n",
        "    for root, dirs, files in os.walk(dir):\n",
        "        for name in files:\n",
        "            if name.endswith(\".jpg\"):\n",
        "              arr.append(os.path.join(root, name))\n",
        "              break\n",
        "    return arr"
      ],
      "id": "4056ccfe"
    },
    {
      "cell_type": "code",
      "execution_count": null,
      "metadata": {
        "id": "1e14fd04",
        "colab": {
          "base_uri": "https://localhost:8080/",
          "height": 186
        },
        "outputId": "326bf554-f445-4ca3-b47c-ea9a602379b3"
      },
      "outputs": [
        {
          "output_type": "display_data",
          "data": {
            "text/plain": [
              "<Figure size 432x288 with 0 Axes>"
            ]
          },
          "metadata": {}
        },
        {
          "output_type": "display_data",
          "data": {
            "image/png": "[encoded data removed]",
            "text/plain": [
              "<Figure size 720x720 with 5 Axes>"
            ]
          },
          "metadata": {}
        }
      ],
      "source": [
        "# data latih\n",
        "dir = list_files(\"/content/drive/MyDrive/CNN aksara jawa/train\")\n",
        "datagambar(dir)"
      ],
      "id": "1e14fd04"
    },
    {
      "cell_type": "code",
      "execution_count": null,
      "metadata": {
        "id": "b99fd6f0",
        "colab": {
          "base_uri": "https://localhost:8080/",
          "height": 51
        },
        "outputId": "9a86fa75-8acb-4b3b-a855-5d357c6a2948"
      },
      "outputs": [
        {
          "output_type": "display_data",
          "data": {
            "text/plain": [
              "<Figure size 432x288 with 0 Axes>"
            ]
          },
          "metadata": {}
        },
        {
          "output_type": "display_data",
          "data": {
            "text/plain": [
              "<Figure size 720x720 with 0 Axes>"
            ]
          },
          "metadata": {}
        }
      ],
      "source": [
        "# data validasi\n",
        "dirval = list_files(\"/content/drive/MyDrive/CNN aksara jawa/val\")\n",
        "datagambar(dirval)"
      ],
      "id": "b99fd6f0"
    },
    {
      "cell_type": "markdown",
      "source": [
        "## Show data spread\n",
        "\n",
        "View the distribution of datasets by number and folder name"
      ],
      "metadata": {
        "id": "Bki71iTsx5_X"
      },
      "id": "Bki71iTsx5_X"
    },
    {
      "cell_type": "code",
      "execution_count": null,
      "metadata": {
        "id": "53b67b55"
      },
      "outputs": [],
      "source": [
        "#fungsi persebaran data\n",
        "def hitung(data):\n",
        "    arr = []\n",
        "    for root,dirs, files in os.walk(data):\n",
        "        jumlah = 0\n",
        "        for name in files:\n",
        "            if name.endswith(\".jpg\") or name.endswith(\".png\"):\n",
        "              jumlah = jumlah + 1\n",
        "        if jumlah > 0:\n",
        "          arr.append(jumlah)\n",
        "    return arr\n",
        "\n",
        "def nama(data):\n",
        "    arr = []\n",
        "    for root, dirs, files in os.walk(data):\n",
        "\n",
        "        arr.append(dirs)\n",
        "        break\n",
        "    return arr"
      ],
      "id": "53b67b55"
    },
    {
      "cell_type": "code",
      "execution_count": null,
      "metadata": {
        "id": "c4be7403",
        "colab": {
          "base_uri": "https://localhost:8080/"
        },
        "outputId": "3639e757-f52c-49c9-8042-72757f310b60"
      },
      "outputs": [
        {
          "output_type": "stream",
          "name": "stdout",
          "text": [
            "20\n",
            "[['la', 'ga', 'da', 'dha', 'ja', 'ma', 'nga', 'pa', 'nya', 'sa', 'ba', 'ta', 'tha', 'wa', 'ya', 'ha', 'ka', 'ca', 'na', 'ra']]\n"
          ]
        }
      ],
      "source": [
        "#pesebaran data latih\n",
        "jumlah_gambar = hitung(\"/content/drive/MyDrive/CNN aksara jawa/train\")\n",
        "print(len(jumlah_gambar))\n",
        "\n",
        "nama_folder = nama(\"/content/drive/MyDrive/CNN aksara jawa/train\")\n",
        "print(nama_folder)"
      ],
      "id": "c4be7403"
    },
    {
      "cell_type": "code",
      "execution_count": null,
      "metadata": {
        "id": "7d4d9aac",
        "colab": {
          "base_uri": "https://localhost:8080/"
        },
        "outputId": "9d62b28e-54f5-4e9d-adc0-2f868de0d286"
      },
      "outputs": [
        {
          "output_type": "stream",
          "name": "stdout",
          "text": [
            "20\n",
            "[['ma', 'la', 'nga', 'ja', 'da', 'ga', 'dha', 'ba', 'nya', 'pa', 'ya', 'tha', 'wa', 'ta', 'sa', 'ca', 'ha', 'ka', 'ra', 'na']]\n"
          ]
        }
      ],
      "source": [
        "#pesebaran data validasi\n",
        "jumlah_gambaruji = hitung(\"/content/drive/MyDrive/CNN aksara jawa/val\")\n",
        "print(len(jumlah_gambaruji))\n",
        "nama_folderuji = nama(\"/content/drive/MyDrive/CNN aksara jawa/val\")\n",
        "print(nama_folderuji)"
      ],
      "id": "7d4d9aac"
    },
    {
      "cell_type": "markdown",
      "source": [
        "## Build Model\n",
        "\n",
        "Creating a model and cnn architecture, the model will be used for training and then recognize the pattern image that is entered. This model is of sequential type, which means that the Sequential Model is suitable for ordinary layer stacks where each layer has exactly one input tensor and one output tensor,\n",
        "\n",
        "After the model is made then create a convulitonal layer as a 6x6 filter then input the 150x150x3 shape.\n",
        "\n",
        "after entering the convolutional layer then enter the maxpooling layer size 3x3 to take a sample of each input image if the data has entered the maxpool column then flatten to delete all data except one value,\n",
        "\n",
        "after flatten enter into dropout function i.e. randomly assign input unit to 0 with rate frequency at each step during training time with probability 0.1.\n",
        "![cnn diagram.drawio (1).png](data:image/png;base64,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)\n"
      ],
      "metadata": {
        "id": "uGWyeLG1yCYO"
      },
      "id": "uGWyeLG1yCYO"
    },
    {
      "cell_type": "code",
      "execution_count": null,
      "metadata": {
        "id": "e380ab80",
        "colab": {
          "base_uri": "https://localhost:8080/"
        },
        "outputId": "8da62283-cc3d-4c54-e308-a61f95faee31"
      },
      "outputs": [
        {
          "output_type": "stream",
          "name": "stdout",
          "text": [
            "Model: \"sequential\"\n",
            "_________________________________________________________________\n",
            " Layer (type)                Output Shape              Param #   \n",
            "=================================================================\n",
            " conv2d (Conv2D)             (None, 150, 150, 8)       1544      \n",
            "                                                                 \n",
            " conv2d_1 (Conv2D)           (None, 145, 145, 32)      9248      \n",
            "                                                                 \n",
            " max_pooling2d (MaxPooling2D  (None, 73, 73, 32)       0         \n",
            " )                                                               \n",
            "                                                                 \n",
            " flatten (Flatten)           (None, 170528)            0         \n",
            "                                                                 \n",
            " dropout (Dropout)           (None, 170528)            0         \n",
            "                                                                 \n",
            " dense (Dense)               (None, 300)               51158700  \n",
            "                                                                 \n",
            " dropout_1 (Dropout)         (None, 300)               0         \n",
            "                                                                 \n",
            " dense_1 (Dense)             (None, 20)                6020      \n",
            "                                                                 \n",
            "=================================================================\n",
            "Total params: 51,175,512\n",
            "Trainable params: 51,175,512\n",
            "Non-trainable params: 0\n",
            "_________________________________________________________________\n"
          ]
        }
      ],
      "source": [
        "#Pengaturan Ukuran\n",
        "np.random.seed(23)\n",
        "pool_size = (3, 3) #ukuran tabel pooling\n",
        "prob_drop_conv = 0.1   #probilitas untuk layer convolutional\n",
        "prob_drop_hidden = 0.3  #probilitas untuk layer fully connected \n",
        "\n",
        "\n",
        "model = Sequential()\n",
        "\n",
        "#layer convolutional satu c1\n",
        "model.add(conv2d(8, (8, 8), padding='same', activation='relu', input_shape=(150, 150 ,3))) #dimensi rgb\n",
        "\n",
        "#layer convolutional satu c1\n",
        "model.add(conv2d(32, (6, 6),activation='relu')) #dimensi rgb\n",
        "\n",
        "#layer maxpoool\n",
        "model.add(maxpool2d(pool_size=pool_size, strides=(2,2), padding='same'))\n",
        "model.add(Flatten())\n",
        "model.add(Dropout(prob_drop_conv))\n",
        "\n",
        "#layer fully connected satu\n",
        "model.add(Dense(300, activation='relu'))\n",
        "model.add(Dropout(prob_drop_hidden))\n",
        "\n",
        "#layer fully connected dua\n",
        "model.add(Dense(20, activation='softmax'))\n",
        "\n",
        "#compile model dengan optimizer adam\n",
        "model.compile(optimizer='adam', loss='categorical_crossentropy', metrics=['accuracy'])\n",
        "\n",
        "#property dari model\n",
        "model.summary()"
      ],
      "id": "e380ab80"
    },
    {
      "cell_type": "markdown",
      "source": [
        "## Train model\n",
        "\n",
        "At this stage train the data with data validation, iterations or stages at this stage as many as 20 each stage 128 then validation stage 10, the model will use the fit() function to train the data"
      ],
      "metadata": {
        "id": "XdALiedxE53-"
      },
      "id": "XdALiedxE53-"
    },
    {
      "cell_type": "code",
      "execution_count": null,
      "metadata": {
        "id": "84ff5f25",
        "scrolled": true,
        "colab": {
          "base_uri": "https://localhost:8080/"
        },
        "outputId": "5ab5a5d5-72ed-47b8-b4de-a006698ad81d"
      },
      "outputs": [
        {
          "output_type": "stream",
          "name": "stdout",
          "text": [
            "Epoch 1/20\n",
            "128/128 [==============================] - 276s 2s/step - loss: 4.1385 - accuracy: 0.2402 - val_loss: 1.9956 - val_accuracy: 0.3500\n",
            "Epoch 2/20\n",
            "128/128 [==============================] - 220s 2s/step - loss: 1.4264 - accuracy: 0.6016 - val_loss: 2.8129 - val_accuracy: 0.3000\n",
            "Epoch 3/20\n",
            "128/128 [==============================] - 175s 1s/step - loss: 0.9497 - accuracy: 0.7090 - val_loss: 2.1573 - val_accuracy: 0.4500\n",
            "Epoch 4/20\n",
            "128/128 [==============================] - 149s 1s/step - loss: 0.5857 - accuracy: 0.8164 - val_loss: 2.6156 - val_accuracy: 0.4250\n",
            "Epoch 5/20\n",
            "128/128 [==============================] - 144s 1s/step - loss: 0.3184 - accuracy: 0.8906 - val_loss: 2.2392 - val_accuracy: 0.5000\n",
            "Epoch 6/20\n",
            "128/128 [==============================] - 138s 1s/step - loss: 0.2689 - accuracy: 0.9121 - val_loss: 2.2272 - val_accuracy: 0.3750\n",
            "Epoch 7/20\n",
            "128/128 [==============================] - 129s 999ms/step - loss: 0.2674 - accuracy: 0.9277 - val_loss: 2.9316 - val_accuracy: 0.3750\n",
            "Epoch 8/20\n",
            "128/128 [==============================] - 116s 908ms/step - loss: 0.2499 - accuracy: 0.9238 - val_loss: 2.0310 - val_accuracy: 0.5750\n",
            "Epoch 9/20\n",
            "128/128 [==============================] - 119s 929ms/step - loss: 0.1611 - accuracy: 0.9512 - val_loss: 2.3911 - val_accuracy: 0.5250\n",
            "Epoch 10/20\n",
            "128/128 [==============================] - 118s 924ms/step - loss: 0.1271 - accuracy: 0.9648 - val_loss: 2.4907 - val_accuracy: 0.5750\n",
            "Epoch 11/20\n",
            "128/128 [==============================] - 114s 887ms/step - loss: 0.1107 - accuracy: 0.9590 - val_loss: 2.5521 - val_accuracy: 0.4500\n",
            "Epoch 12/20\n",
            "128/128 [==============================] - 109s 854ms/step - loss: 0.1136 - accuracy: 0.9609 - val_loss: 2.3448 - val_accuracy: 0.6000\n",
            "Epoch 13/20\n",
            "128/128 [==============================] - 111s 868ms/step - loss: 0.1028 - accuracy: 0.9727 - val_loss: 2.1119 - val_accuracy: 0.5500\n",
            "Epoch 14/20\n",
            "128/128 [==============================] - 114s 893ms/step - loss: 0.0655 - accuracy: 0.9844 - val_loss: 3.5999 - val_accuracy: 0.4500\n",
            "Epoch 15/20\n",
            "128/128 [==============================] - 114s 893ms/step - loss: 0.0719 - accuracy: 0.9805 - val_loss: 2.0271 - val_accuracy: 0.5500\n",
            "Epoch 16/20\n",
            "128/128 [==============================] - 116s 904ms/step - loss: 0.0981 - accuracy: 0.9785 - val_loss: 2.8910 - val_accuracy: 0.4250\n",
            "Epoch 17/20\n",
            "128/128 [==============================] - 115s 897ms/step - loss: 0.0321 - accuracy: 0.9883 - val_loss: 3.4721 - val_accuracy: 0.3750\n",
            "Epoch 18/20\n",
            "128/128 [==============================] - 115s 899ms/step - loss: 0.0564 - accuracy: 0.9824 - val_loss: 4.8743 - val_accuracy: 0.4750\n",
            "Epoch 19/20\n",
            "128/128 [==============================] - 113s 883ms/step - loss: 0.0610 - accuracy: 0.9863 - val_loss: 2.7504 - val_accuracy: 0.6500\n",
            "Epoch 20/20\n",
            "128/128 [==============================] - 113s 886ms/step - loss: 0.1029 - accuracy: 0.9785 - val_loss: 2.9074 - val_accuracy: 0.4500\n"
          ]
        },
        {
          "output_type": "execute_result",
          "data": {
            "text/plain": [
              "<keras.callbacks.History at 0x7fe7324c4cd0>"
            ]
          },
          "metadata": {},
          "execution_count": 12
        }
      ],
      "source": [
        "#fit atau latih data dengan data latih dan validasi\n",
        "model.fit(\n",
        "    data_uji,\n",
        "    epochs=20,\n",
        "    steps_per_epoch = 128,\n",
        "    shuffle=True,\n",
        "    validation_data= data_validasi, \n",
        "    validation_steps = 10,\n",
        "    verbose=1\n",
        ")"
      ],
      "id": "84ff5f25"
    },
    {
      "cell_type": "markdown",
      "source": [
        "## Evaluate Model 1\n",
        "\n",
        "at this stage is to evaluate the model that has been made with the training data so that it can find out the difference between the model when it is trained with the first training data"
      ],
      "metadata": {
        "id": "bcZMm380Gj5X"
      },
      "id": "bcZMm380Gj5X"
    },
    {
      "cell_type": "code",
      "execution_count": null,
      "metadata": {
        "id": "786e8b1b",
        "colab": {
          "base_uri": "https://localhost:8080/"
        },
        "outputId": "8195bd8a-7530-4366-fb0c-bebc46bb14f3"
      },
      "outputs": [
        {
          "output_type": "stream",
          "name": "stdout",
          "text": [
            "566/566 [==============================] - 69s 122ms/step - loss: 0.0157 - accuracy: 0.9969\n",
            "0.9969081282615662\n"
          ]
        }
      ],
      "source": [
        "#evaluasi data model dengan data latih sebelum dengan data validasi\n",
        "test_val,test_acc = model.evaluate(data_uji)\n",
        "\n",
        "print(test_acc)"
      ],
      "id": "786e8b1b"
    },
    {
      "cell_type": "markdown",
      "source": [
        "## Evaluate Model 2\n",
        "\n",
        "at this stage, namely evaluating the model with validation data as in the evaluation stage of model one"
      ],
      "metadata": {
        "id": "lNRCySyVG01f"
      },
      "id": "lNRCySyVG01f"
    },
    {
      "cell_type": "code",
      "execution_count": null,
      "metadata": {
        "id": "f168d0d6",
        "colab": {
          "base_uri": "https://localhost:8080/"
        },
        "outputId": "519e0f20-821d-4c4e-c9e6-559b6f49e2fc"
      },
      "outputs": [
        {
          "output_type": "stream",
          "name": "stdout",
          "text": [
            "122/122 [==============================] - 45s 371ms/step - loss: 2.8947 - accuracy: 0.5175\n",
            "0.5175257921218872\n"
          ]
        }
      ],
      "source": [
        "#evaluasi data model dengan data validasi sendiri\n",
        "test_val,test_acc = model.evaluate(data_validasi)\n",
        "\n",
        "print(test_acc)"
      ],
      "id": "f168d0d6"
    },
    {
      "cell_type": "code",
      "execution_count": null,
      "metadata": {
        "id": "edb22308",
        "colab": {
          "base_uri": "https://localhost:8080/"
        },
        "outputId": "0a0bde67-adb1-48c0-9e46-ef3625b8a591"
      },
      "outputs": [
        {
          "output_type": "stream",
          "name": "stdout",
          "text": [
            "[14 16  1 14 19  1 10  5  5  0 10 10  5 17 17  1  4  9 11  5 14  2 16 16\n",
            " 16 14 18 12 12 18 15 16  6 18  8 10  4 12  1  2  5 14  9 12 18  5  8 10\n",
            " 10  8  5 18  2  8 18 17 10 15  1 16 12  9 18 12  6 15  4  5  0 13 10 13\n",
            " 13  3 12 14 13  1  1 15 10 10 16  4  9  5 12  1  2 10 17  5  5  4 17  5\n",
            " 16 18  5 19 10 12 10  7 14 16  7  4  2 18 17  7 14  3 12  5  1  4 16  5\n",
            "  1  2  5 10  9  5 12  5 18 10  7  9 11  3 18  2 10 19  1  6 10 14  7 10\n",
            "  2  5 12 12  1 16  4 12  7  5  6  4  5  9 14  6 12 15  8 12  4 11 12  8\n",
            " 12  7 12 14  3  8 19 11 12 16 15 13  4  2  8 14 16 15 15 13  3 16  8  1\n",
            " 12 15  1  7 14  4 10 10 18 16  5  5 12  5  1 10 10 12 10  4  5  0 11  1\n",
            " 17 12  4  9  4 12 16  5 13  5 10  9 12 11 15 12 10  5  8  1  9 10 18  8\n",
            "  5 11 19  6 15 14  9  5  8 10 12 11  7  5  9 14  0 14 16 19 12  9 16 10\n",
            " 12 18 18  1 11  5 13 10 13  6 10  5  6 10  1  1 16  5 10  8 12 19 14  7\n",
            " 10  5 11 14 10 19 10 14  5 15  5  5 15  5 12 11 18 11  8 17 10 11  4 15\n",
            " 14 11 10  5 12  6 10 16 12 12 13 12  6  3  1 18 17 16  5  8 13  9  4  1\n",
            " 10  5  9 10  4 10  9 10 11 16  5  5 10 13  6 13  5  6 14  7 12  5 18  5\n",
            " 13 14  2  4 17 11  7  5 10  1 15 14 12  5  8  5 14  5 10 17  2  7  1  5\n",
            "  5  5  7 18  5  1  7  1 10 16  1  8  5  1 17 14 13  7  1 16 14 18  5 13\n",
            "  2 12  5  1 19 12 10  5  8  5  5  1  4  0  4 12  1 17 16 14 16 19  6  2\n",
            "  6  8  6 11 18 19 10  3  5 15 13 16  3  0 16  9  7 13 10  1  2 17  6  9\n",
            " 10  9 17  2  9 14  6  5  5  5  1 12  6 15  5 12  1 10 14  8  5 12 16  6\n",
            "  9 10  1 11  5]\n"
          ]
        }
      ],
      "source": [
        "#prediksi model\n",
        "pred = model.predict(data_validasi)\n",
        "prediksi = np.argmax(pred, axis=1)\n",
        "print(prediksi)"
      ],
      "id": "edb22308"
    },
    {
      "cell_type": "markdown",
      "source": [
        "## Evaluate Model 3\n",
        "\n",
        "At this stage, namely evaluating the model by uploading an image then the model will predict the image. Taking the libraries needed to take images and preprocessing images"
      ],
      "metadata": {
        "id": "XKLX7OSDP86c"
      },
      "id": "XKLX7OSDP86c"
    },
    {
      "cell_type": "code",
      "execution_count": null,
      "metadata": {
        "id": "69f9d187"
      },
      "outputs": [],
      "source": [
        "#test data dengan upload\n",
        "from google.colab import files\n",
        "from keras.preprocessing import image"
      ],
      "id": "69f9d187"
    },
    {
      "cell_type": "code",
      "execution_count": null,
      "metadata": {
        "id": "55c54f7e",
        "colab": {
          "resources": {
            "http://localhost:8080/nbextensions/google.colab/files.js": {
              "data": "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",
              "ok": true,
              "headers": [
                [
                  "content-type",
                  "application/javascript"
                ]
              ],
              "status": 200,
              "status_text": ""
            }
          },
          "base_uri": "https://localhost:8080/",
          "height": 377
        },
        "outputId": "469072d8-d2eb-431f-a3ea-938ade283e4f"
      },
      "outputs": [
        {
          "output_type": "display_data",
          "data": {
            "text/html": [
              "\n",
              "     <input type=\"file\" id=\"files-99832c72-b7de-4cfb-9977-9fe35ea85b1f\" name=\"files[]\" multiple disabled\n",
              "        style=\"border:none\" />\n",
              "     <output id=\"result-99832c72-b7de-4cfb-9977-9fe35ea85b1f\">\n",
              "      Upload widget is only available when the cell has been executed in the\n",
              "      current browser session. Please rerun this cell to enable.\n",
              "      </output>\n",
              "      <script src=\"/nbextensions/google.colab/files.js\"></script> "
            ],
            "text/plain": [
              "<IPython.core.display.HTML object>"
            ]
          },
          "metadata": {}
        },
        {
          "output_type": "stream",
          "name": "stdout",
          "text": [
            "Saving Webp.net-resizeimage (2).png to Webp.net-resizeimage (2) (1).png\n",
            "[[0. 0. 0. 0. 0. 0. 0. 0. 0. 0. 0. 0. 0. 0. 1. 0. 0. 0. 0. 0.]]\n",
            "14\n",
            "aksara terdeteksi : ra \n"
          ]
        },
        {
          "output_type": "display_data",
          "data": {
            "image/png": "[encoded data removed]",
            "text/plain": [
              "<Figure size 432x288 with 1 Axes>"
            ]
          },
          "metadata": {
            "needs_background": "light"
          }
        }
      ],
      "source": [
        "up = files.upload()\n",
        "\n",
        "for file in up.keys():\n",
        "\n",
        "    #preprocessing gambar\n",
        "    path = file\n",
        "    img = image.load_img(path,target_size=(150,150)) \n",
        "    imgplot = plt.imshow(img)\n",
        "\n",
        "    #process gambar\n",
        "    x = image.img_to_array(img)\n",
        "    x = np.expand_dims(x,axis=0)\n",
        "\n",
        "    data = np.vstack([x])\n",
        "    kelas = model.predict(data, batch_size=10)\n",
        "\n",
        "    print(kelas)\n",
        "\n",
        "    final = np.argmax(kelas)\n",
        "\n",
        "    print(final)\n",
        "\n",
        "    #klasifikasisan berdasrkan posisi angka pada array\n",
        "    if final==0:\n",
        "          print(\"aksara terdeteksi : ba \")\n",
        "\n",
        "    if final==1:\n",
        "          print(\"aksara terdeteksi : ca \")\n",
        "\n",
        "    if final==2:\n",
        "          print(\"aksara terdeteksi : da \")\n",
        "\n",
        "    if final==3:\n",
        "          print(\"aksara terdeteksi : dha \")\n",
        "\n",
        "    if final==4:\n",
        "          print(\"aksara terdeteksi : ga \")\n",
        "        \n",
        "    if final==5:\n",
        "          print(\"aksara terdeteksi : ha \")\n",
        "\n",
        "    if final==6:\n",
        "          print(\"aksara terdeteksi : ja \")\n",
        "\n",
        "    if final==7:\n",
        "          print(\"aksara terdeteksi : ka \")\n",
        "\n",
        "    if final==8:\n",
        "          print(\"aksara terdeteksi : la \")\n",
        "\n",
        "    if final==9:\n",
        "          print(\"aksara terdeteksi : ma \")\n",
        "\n",
        "    if final==10:\n",
        "          print(\"aksara terdeteksi : na \")\n",
        "\n",
        "    if final==11:\n",
        "          print(\"aksara terdeteksi : nga \")\n",
        "      \n",
        "    if final==12:\n",
        "          print(\"aksara terdeteksi : nya \")\n",
        "\n",
        "    if final==13:\n",
        "          print(\"aksara terdeteksi : pa \")\n",
        "\n",
        "    if final==14:\n",
        "          print(\"aksara terdeteksi : ra \")\n",
        "\n",
        "    if final==15:\n",
        "          print(\"aksara terdeteksi : sa \")\n",
        "\n",
        "    if final==16:\n",
        "          print(\"aksara terdeteksi : ta \")\n",
        "\n",
        "    if final==17:\n",
        "          print(\"aksara terdeteksi : tha \")\n",
        "\n",
        "    if final==18:\n",
        "          print(\"aksara terdeteksi : wa \")\n",
        "\n",
        "    if final==19:\n",
        "          print(\"aksara terdeteksi : ya \")"
      ],
      "id": "55c54f7e"
    },
    {
      "cell_type": "markdown",
      "source": [
        "## Konversi model\n",
        "\n",
        "At this stage, which is converting the model that has been made into a lite version model so that it can be used on smartphone devices, in converting this using the tensorflow lite library to help convert to using the tensorflow lite model the model must be a 28x28 input dimension 1\n"
      ],
      "metadata": {
        "id": "JtlSd7v1H5j-"
      },
      "id": "JtlSd7v1H5j-"
    },
    {
      "cell_type": "code",
      "source": [
        "#konverter model\n",
        "converter = tf.lite.TFLiteConverter.from_keras_model(model)\n",
        "tf_lite_float_model = converter.convert()\n",
        "\n",
        "float_model_size = len(tf_lite_float_model) / 1024\n",
        "print(\"ukuran = %dKBs\" % float_model_size)"
      ],
      "metadata": {
        "id": "34RxPOe9ISR3"
      },
      "id": "34RxPOe9ISR3",
      "execution_count": null,
      "outputs": []
    },
    {
      "cell_type": "markdown",
      "source": [
        "After the conversion, the first stage then converts the model into a veris quantize for smaller ones"
      ],
      "metadata": {
        "id": "8-DtVLBAIVPm"
      },
      "id": "8-DtVLBAIVPm"
    },
    {
      "cell_type": "code",
      "source": [
        "#konvert ke model quantineze\n",
        "converter.optimizations = [tf.lite.Optimize.DEFAULT]\n",
        "tflite_model_quant = converter.convert()\n",
        "\n",
        "tflite_model_quant_size = len(tflite_model_quant) / 1024\n",
        "print(\"ukuran = %dKBs\" % tflite_model_quant_size)"
      ],
      "metadata": {
        "id": "6FWyjoIYIUdG"
      },
      "id": "6FWyjoIYIUdG",
      "execution_count": null,
      "outputs": []
    },
    {
      "cell_type": "markdown",
      "source": [
        "The last step is to download the model that has been converted to a tflite model"
      ],
      "metadata": {
        "id": "94jWrtNwIfIt"
      },
      "id": "94jWrtNwIfIt"
    },
    {
      "cell_type": "code",
      "source": [
        "from google.colab import files\n",
        "#import ke model\n",
        "\n",
        "f = open('aksaramodel281.tflite','wb')\n",
        "f.write(tflite_model_quant)\n",
        "f.close()\n",
        "files.download('aksaramodel281.tflite')"
      ],
      "metadata": {
        "id": "CUAlzPFVIl8d"
      },
      "id": "CUAlzPFVIl8d",
      "execution_count": null,
      "outputs": []
    }
  ],
  "metadata": {
    "colab": {
      "collapsed_sections": [],
      "name": "Javanese letter Classification using cnn",
      "provenance": []
    },
    "kernelspec": {
      "display_name": "Python 3",
      "language": "python",
      "name": "python3"
    },
    "language_info": {
      "codemirror_mode": {
        "name": "ipython",
        "version": 3
      },
      "file_extension": ".py",
      "mimetype": "text/x-python",
      "name": "python",
      "nbconvert_exporter": "python",
      "pygments_lexer": "ipython3",
      "version": "3.8.8"
    }
  },
  "nbformat": 4,
  "nbformat_minor": 5
}